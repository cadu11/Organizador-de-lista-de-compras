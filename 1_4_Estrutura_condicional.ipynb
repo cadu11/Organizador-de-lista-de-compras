{
  "nbformat": 4,
  "nbformat_minor": 0,
  "metadata": {
    "colab": {
      "provenance": [],
      "authorship_tag": "ABX9TyPOYE5YD+opChQI1ghMmrVs",
      "include_colab_link": true
    },
    "kernelspec": {
      "name": "python3",
      "display_name": "Python 3"
    },
    "language_info": {
      "name": "python"
    }
  },
  "cells": [
    {
      "cell_type": "markdown",
      "metadata": {
        "id": "view-in-github",
        "colab_type": "text"
      },
      "source": [
        "<a href=\"https://colab.research.google.com/github/cadu11/Organizador-de-lista-de-compras/blob/main/1_4_Estrutura_condicional.ipynb\" target=\"_parent\"><img src=\"https://colab.research.google.com/assets/colab-badge.svg\" alt=\"Open In Colab\"/></a>"
      ]
    },
    {
      "cell_type": "code",
      "source": [
        "#If\n",
        "if 5 < 10:\n",
        "  print('verdade')"
      ],
      "metadata": {
        "colab": {
          "base_uri": "https://localhost:8080/"
        },
        "id": "JZplDBTy1Fmn",
        "outputId": "b7995969-cbea-458e-a861-d3481bb276d7"
      },
      "execution_count": 3,
      "outputs": [
        {
          "output_type": "stream",
          "name": "stdout",
          "text": [
            "verdade\n"
          ]
        }
      ]
    },
    {
      "cell_type": "code",
      "source": [
        "#If or Else\n",
        "num1 = 10\n",
        "num2 = 20\n",
        "if num1 < num2:\n",
        "  print('num1 e maior que num2')\n",
        "else:\n",
        "  print('num2 e maior que num1')"
      ],
      "metadata": {
        "colab": {
          "base_uri": "https://localhost:8080/"
        },
        "id": "kICDYZ_g2QS_",
        "outputId": "72227c89-191d-4fbb-cb7d-ff35beb11832"
      },
      "execution_count": 8,
      "outputs": [
        {
          "output_type": "stream",
          "name": "stdout",
          "text": [
            "num1 e maior que num2\n"
          ]
        }
      ]
    },
    {
      "cell_type": "code",
      "source": [
        "num1 = 7\n",
        "num2 = 4\n",
        "num3 = 2\n",
        "if num1 > num2 and num1 > num3:\n",
        "  print('num1 e maior')\n",
        "else:\n",
        "  print('num1 nao e o maior')"
      ],
      "metadata": {
        "colab": {
          "base_uri": "https://localhost:8080/"
        },
        "id": "0P4ifSSA5KPG",
        "outputId": "7c6878e9-ae37-4f69-ece9-50bbe18e77ef"
      },
      "execution_count": 9,
      "outputs": [
        {
          "output_type": "stream",
          "name": "stdout",
          "text": [
            "num1 e maior\n"
          ]
        }
      ]
    },
    {
      "cell_type": "code",
      "source": [
        "num1 = 10\n",
        "num2 = 10\n",
        "if num1 > num2:\n",
        "  print('num1 e maior num2')\n",
        "elif num1 < num2:\n",
        "  print('num2 e maior que o num1')\n",
        "else:\n",
        "  print('num1 e igual ao num2')\n"
      ],
      "metadata": {
        "colab": {
          "base_uri": "https://localhost:8080/"
        },
        "id": "XmKDE5XOCuE8",
        "outputId": "f1ead7da-26df-49a3-9c3b-69572541d352"
      },
      "execution_count": 10,
      "outputs": [
        {
          "output_type": "stream",
          "name": "stdout",
          "text": [
            "num1 e igual ao num2\n"
          ]
        }
      ]
    }
  ]
}